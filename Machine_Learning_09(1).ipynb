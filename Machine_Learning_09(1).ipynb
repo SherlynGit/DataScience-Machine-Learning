{
  "nbformat": 4,
  "nbformat_minor": 0,
  "metadata": {
    "colab": {
      "provenance": []
    },
    "kernelspec": {
      "name": "python3",
      "display_name": "Python 3"
    },
    "language_info": {
      "name": "python"
    }
  },
  "cells": [
    {
      "cell_type": "markdown",
      "source": [
        "# **10 Mengenal Text Processing: Bag of Words & Stop Word Filtering**"
      ],
      "metadata": {
        "id": "IkGXuFA3xXkb"
      }
    },
    {
      "cell_type": "markdown",
      "source": [
        "Bag of Words model sebagai representasi text\n",
        "\n",
        "Bag of Words digunakan untuk menyederhanakan representasi text sebagai sekumpulan kata serta mengabaikan grammar dan posisi setiap kata pada kalimat. Text akan dikonversi menjadi lowercase dan tanda baca akan diabaikan."
      ],
      "metadata": {
        "id": "oNPS_2ZixdBE"
      }
    },
    {
      "cell_type": "markdown",
      "source": [
        "Dataset"
      ],
      "metadata": {
        "id": "DBNuiIJ3xg4S"
      }
    },
    {
      "cell_type": "code",
      "execution_count": null,
      "metadata": {
        "colab": {
          "base_uri": "https://localhost:8080/"
        },
        "id": "48xFDaNQsLbj",
        "outputId": "7f93b4fc-3bcf-4443-c509-b0e4ee1c3515"
      },
      "outputs": [
        {
          "output_type": "execute_result",
          "data": {
            "text/plain": [
              "['Linux has been around since the mid-1990s.',\n",
              " 'Linux distributions include the Linux kernel.',\n",
              " 'Linux is one of the most prominent open-source software.']"
            ]
          },
          "metadata": {},
          "execution_count": 1
        }
      ],
      "source": [
        "corpus = [\n",
        "    'Linux has been around since the mid-1990s.',\n",
        "    'Linux distributions include the Linux kernel.',\n",
        "    'Linux is one of the most prominent open-source software.'\n",
        "]\n",
        "\n",
        "corpus"
      ]
    },
    {
      "cell_type": "markdown",
      "source": [
        "Bag of Words model dengan CountVectorizer\n",
        "\n",
        "Bag of Words model dapat diterapkan dengan memanfatkan CountVectorizer."
      ],
      "metadata": {
        "id": "hG66OKLCxoBz"
      }
    },
    {
      "cell_type": "code",
      "source": [
        "from sklearn.feature_extraction.text import CountVectorizer\n",
        "\n",
        "vectorizer = CountVectorizer()\n",
        "vectorized_X = vectorizer.fit_transform(corpus).todense()\n",
        "vectorized_X"
      ],
      "metadata": {
        "colab": {
          "base_uri": "https://localhost:8080/"
        },
        "id": "_AXdHItixqz8",
        "outputId": "c3e6f311-aa69-431b-ae1b-a15d44aaeaf3"
      },
      "execution_count": null,
      "outputs": [
        {
          "output_type": "execute_result",
          "data": {
            "text/plain": [
              "matrix([[1, 1, 1, 0, 1, 0, 0, 0, 1, 1, 0, 0, 0, 0, 0, 1, 0, 0, 1],\n",
              "        [0, 0, 0, 1, 0, 1, 0, 1, 2, 0, 0, 0, 0, 0, 0, 0, 0, 0, 1],\n",
              "        [0, 0, 0, 0, 0, 0, 1, 0, 1, 0, 1, 1, 1, 1, 1, 0, 1, 1, 1]])"
            ]
          },
          "metadata": {},
          "execution_count": 2
        }
      ]
    },
    {
      "cell_type": "code",
      "source": [
        "vectorizer.get_feature_names_out()"
      ],
      "metadata": {
        "colab": {
          "base_uri": "https://localhost:8080/"
        },
        "id": "-HIZq_Jpxtji",
        "outputId": "89b7cea3-cc5a-4b26-858d-43ca3d6a0358"
      },
      "execution_count": null,
      "outputs": [
        {
          "output_type": "execute_result",
          "data": {
            "text/plain": [
              "array(['1990s', 'around', 'been', 'distributions', 'has', 'include', 'is',\n",
              "       'kernel', 'linux', 'mid', 'most', 'of', 'one', 'open', 'prominent',\n",
              "       'since', 'software', 'source', 'the'], dtype=object)"
            ]
          },
          "metadata": {},
          "execution_count": 3
        }
      ]
    },
    {
      "cell_type": "markdown",
      "source": [
        "Euclidean Distance untuk mengukur kedekatan/jarak antar dokumen (vector)"
      ],
      "metadata": {
        "id": "fAer6eQ2xxIy"
      }
    },
    {
      "cell_type": "code",
      "source": [
        "from sklearn.feature_extraction.text import CountVectorizer\n",
        "from sklearn.metrics.pairwise import euclidean_distances\n",
        "\n",
        "corpus = [\n",
        "    \"Linux has been around since the mid-1900s.\",\n",
        "    \"Linux distributions include the Linux kernel.\",\n",
        "    \"Linux is one of the most prominient open-source software\"\n",
        "]"
      ],
      "metadata": {
        "id": "cVhd4o6Pxxx8"
      },
      "execution_count": 4,
      "outputs": []
    },
    {
      "cell_type": "code",
      "source": [
        "vectorizer = CountVectorizer()\n",
        "vectorized_X = vectorizer.fit_transform(corpus).toarray()\n",
        "distances = euclidean_distances(vectorized_X)\n",
        "\n",
        "for i in range(len(distances)):\n",
        "  for j in range (i, len(distances)):\n",
        "    if i == j:\n",
        "      continue\n",
        "    jarak = distances[i][j]\n",
        "    print(f\"Jarak dokumen {i+1} dan {j+1}: {jarak}\")"
      ],
      "metadata": {
        "colab": {
          "base_uri": "https://localhost:8080/"
        },
        "id": "rO5eRhtqqthm",
        "outputId": "3556bb98-86d5-4637-c6ba-d83386008665"
      },
      "execution_count": 5,
      "outputs": [
        {
          "output_type": "stream",
          "name": "stdout",
          "text": [
            "Jarak dokumen 1 dan 2: 3.1622776601683795\n",
            "Jarak dokumen 1 dan 3: 3.7416573867739413\n",
            "Jarak dokumen 2 dan 3: 3.4641016151377544\n"
          ]
        }
      ]
    },
    {
      "cell_type": "markdown",
      "source": [
        "# **Stop Word Filtering pada text**"
      ],
      "metadata": {
        "id": "XrNVT6risDdT"
      }
    },
    {
      "cell_type": "markdown",
      "source": [
        "Stop Word Filtering menyederhanakan representasi text dengan mengabaikan beberapa kata seperti determiners (the, a, an), auxiliary verbs (do, be, will), dan prepositions (on, in, at)."
      ],
      "metadata": {
        "id": "tJM8yXOKsHq6"
      }
    },
    {
      "cell_type": "markdown",
      "source": [
        "Dataset"
      ],
      "metadata": {
        "id": "shava6I9sJs5"
      }
    },
    {
      "cell_type": "code",
      "source": [
        "corpus"
      ],
      "metadata": {
        "colab": {
          "base_uri": "https://localhost:8080/"
        },
        "id": "vP7NJObisLwl",
        "outputId": "ca018317-1a25-4258-ddc6-c3e10f171deb"
      },
      "execution_count": 6,
      "outputs": [
        {
          "output_type": "execute_result",
          "data": {
            "text/plain": [
              "['Linux has been around since the mid-1900s.',\n",
              " 'Linux distributions include the Linux kernel.',\n",
              " 'Linux is one of the most prominient open-source software']"
            ]
          },
          "metadata": {},
          "execution_count": 6
        }
      ]
    },
    {
      "cell_type": "markdown",
      "source": [
        "Stop Word Filtering dengan CountVectorizer Stop Word Filtering juga dapat diterapkan dengan memanfatkan CountVectorizer."
      ],
      "metadata": {
        "id": "sxO5QONAsQFJ"
      }
    },
    {
      "cell_type": "code",
      "source": [
        "from sklearn.feature_extraction.text import CountVectorizer\n",
        "\n",
        "vectorizer = CountVectorizer(stop_words='english')\n",
        "vectorized_X = vectorizer.fit_transform(corpus).todense()\n",
        "vectorized_X"
      ],
      "metadata": {
        "colab": {
          "base_uri": "https://localhost:8080/"
        },
        "id": "sKQSO-3nsPqk",
        "outputId": "358bde76-87f9-449d-a9b6-d357f124d8d5"
      },
      "execution_count": 7,
      "outputs": [
        {
          "output_type": "execute_result",
          "data": {
            "text/plain": [
              "matrix([[1, 0, 0, 0, 1, 1, 0, 0, 0, 0],\n",
              "        [0, 1, 1, 1, 2, 0, 0, 0, 0, 0],\n",
              "        [0, 0, 0, 0, 1, 0, 1, 1, 1, 1]])"
            ]
          },
          "metadata": {},
          "execution_count": 7
        }
      ]
    },
    {
      "cell_type": "code",
      "source": [
        "vectorizer.get_feature_names_out()"
      ],
      "metadata": {
        "colab": {
          "base_uri": "https://localhost:8080/"
        },
        "id": "OkTb-fVBsWHh",
        "outputId": "1c9353b4-2080-4863-85d1-49671556a346"
      },
      "execution_count": 8,
      "outputs": [
        {
          "output_type": "execute_result",
          "data": {
            "text/plain": [
              "array(['1900s', 'distributions', 'include', 'kernel', 'linux', 'mid',\n",
              "       'open', 'prominient', 'software', 'source'], dtype=object)"
            ]
          },
          "metadata": {},
          "execution_count": 8
        }
      ]
    }
  ]
}